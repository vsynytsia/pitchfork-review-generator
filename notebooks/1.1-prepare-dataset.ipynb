{
 "cells": [
  {
   "cell_type": "code",
   "execution_count": 8,
   "id": "initial_id",
   "metadata": {
    "collapsed": true,
    "ExecuteTime": {
     "end_time": "2023-12-12T21:24:38.346469400Z",
     "start_time": "2023-12-12T21:24:38.335015900Z"
    }
   },
   "outputs": [],
   "source": [
    "import os\n",
    "from pathlib import Path\n",
    "\n",
    "import pandas as pd\n",
    "\n",
    "from src.config import DataFoldersConfig\n",
    "\n",
    "os.chdir(r\"C:\\Users\\Vladyslav_Synytsia\\my_projects\\to_be_named\")"
   ]
  },
  {
   "cell_type": "markdown",
   "source": [
    "Read all dataframes into a list"
   ],
   "metadata": {
    "collapsed": false
   },
   "id": "aa1e57e41df6a5bd"
  },
  {
   "cell_type": "code",
   "execution_count": 9,
   "outputs": [],
   "source": [
    "raw_data_folder = Path(DataFoldersConfig.RAW)\n",
    "dfs = [\n",
    "    pd.read_csv(csv_file)\n",
    "    for csv_file in raw_data_folder.glob(\"*.csv\")\n",
    "]"
   ],
   "metadata": {
    "collapsed": false,
    "ExecuteTime": {
     "end_time": "2023-12-12T21:24:39.904829100Z",
     "start_time": "2023-12-12T21:24:38.744202100Z"
    }
   },
   "id": "f38e0413f8ee3951"
  },
  {
   "cell_type": "markdown",
   "source": [
    "Concatenate all data frames"
   ],
   "metadata": {
    "collapsed": false
   },
   "id": "ff73cb1a2cbde3c7"
  },
  {
   "cell_type": "code",
   "execution_count": 10,
   "outputs": [
    {
     "data": {
      "text/plain": "url               0\nartist_name     617\nlabel           669\nalbum_name      617\ngenre          2919\nsummary         870\nreview_text     618\nscore             0\ndtype: int64"
     },
     "execution_count": 10,
     "metadata": {},
     "output_type": "execute_result"
    }
   ],
   "source": [
    "all_data = pd.concat(dfs, ignore_index=True)\n",
    "all_data.isna().sum()"
   ],
   "metadata": {
    "collapsed": false,
    "ExecuteTime": {
     "end_time": "2023-12-12T21:24:39.953030400Z",
     "start_time": "2023-12-12T21:24:39.905916Z"
    }
   },
   "id": "f381c8faab07aa52"
  },
  {
   "cell_type": "markdown",
   "source": [
    "Deal with NaN values"
   ],
   "metadata": {
    "collapsed": false
   },
   "id": "722ce26d58eac7da"
  },
  {
   "cell_type": "code",
   "execution_count": 11,
   "outputs": [],
   "source": [
    "nan_columns = all_data.columns[all_data.isna().any()].tolist()\n",
    "all_data = all_data.dropna(subset=nan_columns, how=\"all\")\n",
    "\n",
    "all_data[\"summary\"] = all_data[\"summary\"].fillna(\"\")\n",
    "all_data = all_data.dropna()"
   ],
   "metadata": {
    "collapsed": false,
    "ExecuteTime": {
     "end_time": "2023-12-12T21:24:41.324982400Z",
     "start_time": "2023-12-12T21:24:41.285298100Z"
    }
   },
   "id": "694a792dcc1985dc"
  },
  {
   "cell_type": "markdown",
   "source": [
    "Remove redundant text from reviews"
   ],
   "metadata": {
    "collapsed": false
   },
   "id": "2a48c2b19d223235"
  },
  {
   "cell_type": "code",
   "execution_count": 13,
   "outputs": [],
   "source": [
    "def remove_affiliate_text(string: str) -> str:\n",
    "    affiliate_text = \"However, when you buy something through our retail links\"\n",
    "    idx_start = string.find(affiliate_text)\n",
    "    return string[:idx_start].rstrip()\n",
    "\n",
    "all_data.review_text = all_data.review_text.apply(remove_affiliate_text)"
   ],
   "metadata": {
    "collapsed": false,
    "ExecuteTime": {
     "end_time": "2023-12-12T21:24:48.568351700Z",
     "start_time": "2023-12-12T21:24:48.439776900Z"
    }
   },
   "id": "6ae9726404fcbf32"
  },
  {
   "cell_type": "code",
   "execution_count": 14,
   "outputs": [],
   "source": [
    "all_data[\"text\"] = all_data.apply(lambda row: row[\"summary\"] + row[\"review_text\"], axis=1)\n",
    "all_data = all_data.drop(columns=[\"summary\", \"review_text\"])"
   ],
   "metadata": {
    "collapsed": false,
    "ExecuteTime": {
     "end_time": "2023-12-12T21:24:48.861914900Z",
     "start_time": "2023-12-12T21:24:48.627237300Z"
    }
   },
   "id": "e79236bef349e3ef"
  },
  {
   "cell_type": "code",
   "execution_count": 15,
   "outputs": [],
   "source": [
    "preprocessed_data_folder = Path(DataFoldersConfig.PREPROCESSED)\n",
    "fname = preprocessed_data_folder / \"reviews.csv\"\n",
    "all_data.to_csv(fname, index=False)"
   ],
   "metadata": {
    "collapsed": false,
    "ExecuteTime": {
     "end_time": "2023-12-12T21:24:50.364035700Z",
     "start_time": "2023-12-12T21:24:48.864468Z"
    }
   },
   "id": "8db1403a724d8933"
  }
 ],
 "metadata": {
  "kernelspec": {
   "display_name": "Python 3",
   "language": "python",
   "name": "python3"
  },
  "language_info": {
   "codemirror_mode": {
    "name": "ipython",
    "version": 2
   },
   "file_extension": ".py",
   "mimetype": "text/x-python",
   "name": "python",
   "nbconvert_exporter": "python",
   "pygments_lexer": "ipython2",
   "version": "2.7.6"
  }
 },
 "nbformat": 4,
 "nbformat_minor": 5
}
